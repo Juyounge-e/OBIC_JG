{
 "cells": [
  {
   "cell_type": "code",
   "execution_count": 1,
   "metadata": {},
   "outputs": [],
   "source": [
    "import os \n",
    "import pandas as pd\n",
    "\n",
    "df_real1 = pd.read_csv('/Users/yujuyoung/Desktop/OBIC/data/기상실측데이터_1.csv')\n",
    "df_real2 = pd.read_csv('/Users/yujuyoung/Desktop/OBIC/data/기상실측데이터_2.csv')\n",
    "\n",
    "df_forecast1 = pd.read_csv('/Users/yujuyoung/Desktop/OBIC/data/기상예측데이터_1.csv')\n",
    "df_forecast2 = pd.read_csv('/Users/yujuyoung/Desktop/OBIC/data/기상예측데이터_2.csv')\n",
    "\n",
    "df_price_realtime = pd.read_csv('/Users/yujuyoung/Desktop/OBIC/data/제주전력시장_시장전기가격_실시간가격.csv')\n",
    "df_price_d_ago = pd.read_csv('/Users/yujuyoung/Desktop/OBIC/data/제주전력시장_시장전기가격_하루전가격.csv')\n",
    "df_status = pd.read_csv('/Users/yujuyoung/Desktop/OBIC/data/제주전력시장_현황데이터.csv')\n"
   ]
  },
  {
   "cell_type": "code",
   "execution_count": null,
   "metadata": {},
   "outputs": [
    {
     "name": "stdout",
     "output_type": "stream",
     "text": [
      "<class 'pandas.core.frame.DataFrame'>\n",
      "RangeIndex: 64666 entries, 0 to 64665\n",
      "Data columns (total 19 columns):\n",
      " #   Column                Non-Null Count  Dtype \n",
      "---  ------                --------------  ----- \n",
      " 0   location              64666 non-null  object\n",
      " 1   ts                    64666 non-null  object\n",
      " 2   temp                  64666 non-null  object\n",
      " 3   real_feel_temp        64666 non-null  object\n",
      " 4   real_feel_temp_shade  64666 non-null  object\n",
      " 5   rel_hum               64666 non-null  object\n",
      " 6   dew_point             64666 non-null  object\n",
      " 7   wind_dir              64666 non-null  object\n",
      " 8   wind_spd              64666 non-null  object\n",
      " 9   wind_gust_spd         64666 non-null  object\n",
      " 10  uv_idx                64666 non-null  object\n",
      " 11  vis                   64666 non-null  object\n",
      " 12  cld_cvr               64666 non-null  object\n",
      " 13  ceiling               64666 non-null  object\n",
      " 14  pressure              64666 non-null  object\n",
      " 15  appr_temp             64666 non-null  object\n",
      " 16  wind_chill_temp       64666 non-null  object\n",
      " 17  wet_bulb_temp         64666 non-null  object\n",
      " 18  precip_1h             64666 non-null  object\n",
      "dtypes: object(19)\n",
      "memory usage: 9.4+ MB\n",
      "<class 'pandas.core.frame.DataFrame'>\n",
      "RangeIndex: 34012 entries, 0 to 34011\n",
      "Data columns (total 12 columns):\n",
      " #   Column        Non-Null Count  Dtype \n",
      "---  ------        --------------  ----- \n",
      " 0   location      34012 non-null  object\n",
      " 1   ts            34012 non-null  object\n",
      " 2   cloud         34012 non-null  object\n",
      " 3   temp          34012 non-null  object\n",
      " 4   temp_max      34012 non-null  object\n",
      " 5   temp_min      34012 non-null  object\n",
      " 6   humidity      34012 non-null  object\n",
      " 7   ground_press  34012 non-null  object\n",
      " 8   wind_speed    34012 non-null  object\n",
      " 9   wind_dir      34012 non-null  object\n",
      " 10  rain          34012 non-null  object\n",
      " 11  snow          34012 non-null  object\n",
      "dtypes: object(12)\n",
      "memory usage: 3.1+ MB\n"
     ]
    }
   ],
   "source": [
    "# 실측, 예측1은 18개 칼럼\n",
    "df_real1.info()"
   ]
  },
  {
   "cell_type": "code",
   "execution_count": null,
   "metadata": {},
   "outputs": [
    {
     "name": "stdout",
     "output_type": "stream",
     "text": [
      "<class 'pandas.core.frame.DataFrame'>\n",
      "RangeIndex: 34012 entries, 0 to 34011\n",
      "Data columns (total 12 columns):\n",
      " #   Column        Non-Null Count  Dtype \n",
      "---  ------        --------------  ----- \n",
      " 0   location      34012 non-null  object\n",
      " 1   ts            34012 non-null  object\n",
      " 2   cloud         34012 non-null  object\n",
      " 3   temp          34012 non-null  object\n",
      " 4   temp_max      34012 non-null  object\n",
      " 5   temp_min      34012 non-null  object\n",
      " 6   humidity      34012 non-null  object\n",
      " 7   ground_press  34012 non-null  object\n",
      " 8   wind_speed    34012 non-null  object\n",
      " 9   wind_dir      34012 non-null  object\n",
      " 10  rain          34012 non-null  object\n",
      " 11  snow          34012 non-null  object\n",
      "dtypes: object(12)\n",
      "memory usage: 3.1+ MB\n"
     ]
    }
   ],
   "source": [
    "# 실측, 예측2는 모두 11개 칼럼\n",
    "df_real2.info()"
   ]
  },
  {
   "cell_type": "code",
   "execution_count": 7,
   "metadata": {},
   "outputs": [
    {
     "name": "stdout",
     "output_type": "stream",
     "text": [
      "<class 'pandas.core.frame.DataFrame'>\n",
      "RangeIndex: 84080 entries, 0 to 84079\n",
      "Data columns (total 8 columns):\n",
      " #   Column          Non-Null Count  Dtype  \n",
      "---  ------          --------------  -----  \n",
      " 0   ts              84080 non-null  int64  \n",
      " 1   공급능력(kW)        84080 non-null  float64\n",
      " 2   현재 수요(kW)       84080 non-null  float64\n",
      " 3   태양광 발전량kW)      84080 non-null  float64\n",
      " 4   풍력 발전량(kW)      84080 non-null  float64\n",
      " 5   신재생 발전량 총합(kW)  84080 non-null  float64\n",
      " 6   공급 예비력(kW)      84080 non-null  float64\n",
      " 7   운영 예비력(kW)      84080 non-null  float64\n",
      "dtypes: float64(7), int64(1)\n",
      "memory usage: 5.1 MB\n"
     ]
    }
   ],
   "source": [
    "df_status.info()"
   ]
  },
  {
   "cell_type": "code",
   "execution_count": null,
   "metadata": {},
   "outputs": [],
   "source": []
  }
 ],
 "metadata": {
  "kernelspec": {
   "display_name": "Python 3",
   "language": "python",
   "name": "python3"
  },
  "language_info": {
   "codemirror_mode": {
    "name": "ipython",
    "version": 3
   },
   "file_extension": ".py",
   "mimetype": "text/x-python",
   "name": "python",
   "nbconvert_exporter": "python",
   "pygments_lexer": "ipython3",
   "version": "3.11.2"
  }
 },
 "nbformat": 4,
 "nbformat_minor": 2
}
